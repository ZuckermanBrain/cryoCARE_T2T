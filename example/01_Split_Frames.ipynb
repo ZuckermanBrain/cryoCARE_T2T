{
 "cells": [
  {
   "cell_type": "markdown",
   "metadata": {},
   "source": [
    "# Split Movie Frames\n",
    "\n",
    "The first step in training a cryo-CARE network is to split the direct detector acquisition movies. To that end we will first align the frames with [MotionCor2](https://www.nature.com/articles/nmeth.4193) and then split the frames into even and odd acquistions.\n",
    "\n",
    "__Note__: This only works if you have downloaded MotionCor2 and placed it in the `example` directory. For more details check out at the [README](https://github.com/juglab/cryoCARE_simg/blob/master/README.md#get-motioncor2)."
   ]
  },
  {
   "cell_type": "code",
   "execution_count": 1,
   "metadata": {},
   "outputs": [],
   "source": [
    "from glob import glob\n",
    "import mrcfile\n",
    "import os\n",
    "from os.path import join, basename\n",
    "\n",
    "import numpy as np\n",
    "from tqdm import tqdm\n",
    "\n",
    "from matplotlib import pyplot as plt\n",
    "\n",
    "from utils import *"
   ]
  },
  {
   "cell_type": "code",
   "execution_count": 2,
   "metadata": {},
   "outputs": [],
   "source": [
    "# In this example we use the downloaded tomogram 'Tomo110', \n",
    "# kindly provided by Mareike Jordan from the Pigino Lab at \n",
    "# MPI-CBG, Dresden. \n",
    "data_path = '/data/Tomo110/frames/'"
   ]
  },
  {
   "cell_type": "code",
   "execution_count": 3,
   "metadata": {
    "scrolled": true
   },
   "outputs": [
    {
     "data": {
      "text/plain": [
       "['/data/Tomo110/frames/54_Tomo110_-42.0_Apr04_16.01.22.mrc',\n",
       " '/data/Tomo110/frames/39_Tomo110_-12.0_Apr04_15.23.20.mrc',\n",
       " '/data/Tomo110/frames/46_Tomo110_-26.0_Apr04_15.55.28.mrc',\n",
       " '/data/Tomo110/frames/32_Tomo110_2.0_Apr04_15.28.23.mrc',\n",
       " '/data/Tomo110/frames/25_Tomo110_16.0_Apr04_15.33.26.mrc',\n",
       " '/data/Tomo110/frames/57_Tomo110_-48.0_Apr04_16.03.35.mrc',\n",
       " '/data/Tomo110/frames/27_Tomo110_12.0_Apr04_15.32.00.mrc',\n",
       " '/data/Tomo110/frames/20_Tomo110_26.0_Apr04_15.37.06.mrc',\n",
       " '/data/Tomo110/frames/04_Tomo110_58.0_Apr04_15.48.58.mrc',\n",
       " '/data/Tomo110/frames/47_Tomo110_-28.0_Apr04_15.56.10.mrc',\n",
       " '/data/Tomo110/frames/22_Tomo110_22.0_Apr04_15.35.40.mrc',\n",
       " '/data/Tomo110/frames/44_Tomo110_-22.0_Apr04_15.53.53.mrc',\n",
       " '/data/Tomo110/frames/35_Tomo110_-4.0_Apr04_15.26.10.mrc',\n",
       " '/data/Tomo110/frames/55_Tomo110_-44.0_Apr04_16.02.07.mrc',\n",
       " '/data/Tomo110/frames/30_Tomo110_6.0_Apr04_15.29.48.mrc',\n",
       " '/data/Tomo110/frames/07_Tomo110_52.0_Apr04_15.46.37.mrc',\n",
       " '/data/Tomo110/frames/36_Tomo110_-6.0_Apr04_15.25.28.mrc',\n",
       " '/data/Tomo110/frames/58_Tomo110_-50.0_Apr04_16.04.17.mrc',\n",
       " '/data/Tomo110/frames/62_Tomo110_-58.0_Apr04_16.07.25.mrc',\n",
       " '/data/Tomo110/frames/14_Tomo110_38.0_Apr04_15.41.28.mrc',\n",
       " '/data/Tomo110/frames/23_Tomo110_20.0_Apr04_15.34.56.mrc',\n",
       " '/data/Tomo110/frames/53_Tomo110_-40.0_Apr04_16.00.38.mrc',\n",
       " '/data/Tomo110/frames/56_Tomo110_-46.0_Apr04_16.02.51.mrc',\n",
       " '/data/Tomo110/frames/48_Tomo110_-30.0_Apr04_15.56.51.mrc',\n",
       " '/data/Tomo110/frames/52_Tomo110_-38.0_Apr04_15.59.54.mrc',\n",
       " '/data/Tomo110/frames/10_Tomo110_46.0_Apr04_15.44.24.mrc',\n",
       " '/data/Tomo110/frames/24_Tomo110_18.0_Apr04_15.34.08.mrc',\n",
       " '/data/Tomo110/frames/02_Tomo110_62.0_Apr04_15.50.51.mrc',\n",
       " '/data/Tomo110/frames/15_Tomo110_36.0_Apr04_15.40.46.mrc',\n",
       " '/data/Tomo110/frames/08_Tomo110_50.0_Apr04_15.45.54.mrc',\n",
       " '/data/Tomo110/frames/06_Tomo110_54.0_Apr04_15.47.19.mrc',\n",
       " '/data/Tomo110/frames/16_Tomo110_34.0_Apr04_15.40.02.mrc',\n",
       " '/data/Tomo110/frames/13_Tomo110_40.0_Apr04_15.42.16.mrc',\n",
       " '/data/Tomo110/frames/49_Tomo110_-32.0_Apr04_15.57.33.mrc',\n",
       " '/data/Tomo110/frames/19_Tomo110_28.0_Apr04_15.37.49.mrc',\n",
       " '/data/Tomo110/frames/41_Tomo110_-16.0_Apr04_15.21.50.mrc',\n",
       " '/data/Tomo110/frames/43_Tomo110_-20.0_Apr04_15.20.20.mrc',\n",
       " '/data/Tomo110/frames/33_Tomo110_0.0_Apr04_15.27.41.mrc',\n",
       " '/data/Tomo110/frames/42_Tomo110_-18.0_Apr04_15.21.05.mrc',\n",
       " '/data/Tomo110/frames/60_Tomo110_-54.0_Apr04_16.05.46.mrc',\n",
       " '/data/Tomo110/frames/31_Tomo110_4.0_Apr04_15.29.05.mrc',\n",
       " '/data/Tomo110/frames/28_Tomo110_10.0_Apr04_15.31.18.mrc',\n",
       " '/data/Tomo110/frames/21_Tomo110_24.0_Apr04_15.36.23.mrc',\n",
       " '/data/Tomo110/frames/45_Tomo110_-24.0_Apr04_15.54.44.mrc',\n",
       " '/data/Tomo110/frames/12_Tomo110_42.0_Apr04_15.42.59.mrc',\n",
       " '/data/Tomo110/frames/50_Tomo110_-34.0_Apr04_15.58.25.mrc',\n",
       " '/data/Tomo110/frames/63_Tomo110_-60.0_Apr04_16.08.20.mrc',\n",
       " '/data/Tomo110/frames/40_Tomo110_-14.0_Apr04_15.22.34.mrc',\n",
       " '/data/Tomo110/frames/03_Tomo110_60.0_Apr04_15.49.50.mrc',\n",
       " '/data/Tomo110/frames/51_Tomo110_-36.0_Apr04_15.59.09.mrc',\n",
       " '/data/Tomo110/frames/34_Tomo110_-2.0_Apr04_15.26.52.mrc',\n",
       " '/data/Tomo110/frames/05_Tomo110_56.0_Apr04_15.48.06.mrc',\n",
       " '/data/Tomo110/frames/11_Tomo110_44.0_Apr04_15.43.41.mrc',\n",
       " '/data/Tomo110/frames/26_Tomo110_14.0_Apr04_15.32.44.mrc',\n",
       " '/data/Tomo110/frames/37_Tomo110_-8.0_Apr04_15.24.45.mrc',\n",
       " '/data/Tomo110/frames/09_Tomo110_48.0_Apr04_15.45.13.mrc',\n",
       " '/data/Tomo110/frames/64_Tomo110_-62.0_Apr04_16.10.49.mrc',\n",
       " '/data/Tomo110/frames/38_Tomo110_-10.0_Apr04_15.24.02.mrc',\n",
       " '/data/Tomo110/frames/01_Tomo110_64.0_Apr04_15.51.42.mrc',\n",
       " '/data/Tomo110/frames/29_Tomo110_8.0_Apr04_15.30.31.mrc',\n",
       " '/data/Tomo110/frames/18_Tomo110_30.0_Apr04_15.38.37.mrc',\n",
       " '/data/Tomo110/frames/59_Tomo110_-52.0_Apr04_16.05.01.mrc',\n",
       " '/data/Tomo110/frames/61_Tomo110_-56.0_Apr04_16.06.40.mrc',\n",
       " '/data/Tomo110/frames/17_Tomo110_32.0_Apr04_15.39.20.mrc',\n",
       " '/data/Tomo110/frames/65_Tomo110_-64.0_Apr04_16.13.12.mrc']"
      ]
     },
     "execution_count": 3,
     "metadata": {},
     "output_type": "execute_result"
    }
   ],
   "source": [
    "# Read the list of mrc-files and display them.\n",
    "files = glob(data_path + '*.mrc')\n",
    "files"
   ]
  },
  {
   "cell_type": "code",
   "execution_count": 4,
   "metadata": {},
   "outputs": [
    {
     "name": "stdout",
     "output_type": "stream",
     "text": [
      "\r\n",
      " RO image file on unit   1 : /data/Tomo110/frames/54_Tomo110_-42.0_Apr04_16.01.22.mrc     Size=     556211 K\r\n",
      "\r\n",
      " Number of columns, rows, sections .....    7420    7676      10\r\n",
      " Map mode ..............................    0   (byte)                     \r\n",
      " Start cols, rows, sects, grid x,y,z ...    0     0     0    7420   7676     10\r\n",
      " Pixel spacing (Angstroms)..............   2.355      2.355      2.355    \r\n",
      " Cell angles ...........................   90.000   90.000   90.000\r\n",
      " Fast, medium, slow axes ...............    X    Y    Z\r\n",
      " Origin on x,y,z .......................    0.000       0.000       0.000    \r\n",
      " Minimum density .......................   0.0000    \r\n",
      " Maximum density .......................   140.00    \r\n",
      " Mean density ..........................   4.9266    \r\n",
      " tilt angles (original,current) ........   0.0   0.0   0.0   0.0   0.0   0.0\r\n",
      " Space group,# extra bytes,idtype,lens .        0        0        0        0\r\n",
      "\r\n",
      "     1 Titles :\r\n",
      "SerialEMCCD: Dose frac. image, scaled by 16.00  r/f 1   04-Apr-18  16:01:30    \r\n",
      "\r\n"
     ]
    }
   ],
   "source": [
    "# We can also execute imod-commands by putting a '!' infront of \n",
    "# the command.\n",
    "!header {files[0]}"
   ]
  },
  {
   "cell_type": "code",
   "execution_count": 5,
   "metadata": {},
   "outputs": [
    {
     "name": "stdout",
     "output_type": "stream",
     "text": [
      "Pixel Spacing in Angstroms: 2.3555\n"
     ]
    }
   ],
   "source": [
    "# Here we read out the pixel spacing from the imod-command.\n",
    "# Pixel spacing (Angstroms) according to the header\n",
    "p = !header -p {files[0]}\n",
    "pixel_spacing = float(p[1].split()[0])\n",
    "print('Pixel Spacing in Angstroms:', pixel_spacing)"
   ]
  },
  {
   "cell_type": "markdown",
   "metadata": {},
   "source": [
    "## CUDA-9.2"
   ]
  },
  {
   "cell_type": "markdown",
   "metadata": {},
   "source": [
    "To run MotionCor2 we have to change the `PATH` to include `CUDA-9.2` instead of `CUDA-9.0`. \n",
    "\n",
    "The command `nvcc --version` shows which `CUDA` is currently active."
   ]
  },
  {
   "cell_type": "code",
   "execution_count": 6,
   "metadata": {},
   "outputs": [
    {
     "name": "stdout",
     "output_type": "stream",
     "text": [
      "env: PATH=/usr/local/bin:/usr/local/IMOD/bin:/usr/local/nvidia/bin:/usr/local/cuda-9.2/bin:/usr/local/sbin:/usr/local/bin:/usr/sbin:/usr/bin:/sbin:/bin\n",
      "nvcc: NVIDIA (R) Cuda compiler driver\r\n",
      "Copyright (c) 2005-2018 NVIDIA Corporation\r\n",
      "Built on Tue_Jun_12_23:07:04_CDT_2018\r\n",
      "Cuda compilation tools, release 9.2, V9.2.148\r\n"
     ]
    }
   ],
   "source": [
    "# Setting the environment variable PATH\n",
    "%env PATH=/usr/local/bin:/usr/local/IMOD/bin:/usr/local/nvidia/bin:/usr/local/cuda-9.2/bin:/usr/local/sbin:/usr/local/bin:/usr/sbin:/usr/bin:/sbin:/bin\n",
    "# Execute the nvcc command\n",
    "!nvcc --version"
   ]
  },
  {
   "cell_type": "markdown",
   "metadata": {},
   "source": [
    "## Align & Split\n",
    "\n",
    "Each file gets aligned with MotionCor2 and the aligned stack is written to a `tmp` directory. Then the aligned stack is loaded and splitted in the two halves (even/odd) and written to the corresponding directories."
   ]
  },
  {
   "cell_type": "code",
   "execution_count": 7,
   "metadata": {},
   "outputs": [],
   "source": [
    "# Create directories\n",
    "if not os.path.isdir('tmp'):\n",
    "    os.mkdir('tmp')\n",
    "if not os.path.isdir(join(data_path, 'even')):\n",
    "    os.mkdir(join(data_path, 'even'))\n",
    "if not os.path.isdir(join(data_path, 'odd')):\n",
    "    os.mkdir(join(data_path, 'odd'))"
   ]
  },
  {
   "cell_type": "code",
   "execution_count": 8,
   "metadata": {},
   "outputs": [],
   "source": [
    "def align_and_split(files):\n",
    "    for f in tqdm(files):\n",
    "        # Align the frames with MotionCor2 and write out the aligned stack with '-OutStack 1'\n",
    "        !/notebooks/MotionCor2_1.2.1-Cuda92 -InMrc {f} -OutMrc tmp/aligned.mrc -Patch 5 5 5 -OutStack 1 >> motioncor2.log\n",
    "        # Since we process image by image only one aligned stack is available here\n",
    "        aligned_stack = mrcfile.open(glob('tmp/*_Stk.mrc')[0], permissive=True)\n",
    "        # Save even frames\n",
    "        save_mrc(join(data_path, 'even', basename(f)), np.sum(aligned_stack.data[::2], axis=0), pixel_spacing)\n",
    "        # Save odd frames\n",
    "        save_mrc(join(data_path, 'odd', basename(f)), np.sum(aligned_stack.data[1::2], axis=0), pixel_spacing)\n",
    "        # Remove aligned files\n",
    "        remove_files('tmp', extension='.mrc')"
   ]
  },
  {
   "cell_type": "code",
   "execution_count": 9,
   "metadata": {
    "scrolled": true
   },
   "outputs": [
    {
     "name": "stderr",
     "output_type": "stream",
     "text": [
      "  0%|          | 0/65 [00:00<?, ?it/s]/usr/local/lib/python3.5/dist-packages/mrcfile/mrcinterpreter.py:208: RuntimeWarning: Map ID string not found - not an MRC file, or file is corrupt\n",
      "  warnings.warn(msg, RuntimeWarning)\n",
      "100%|██████████| 65/65 [20:31<00:00, 19.27s/it]\n"
     ]
    }
   ],
   "source": [
    "# MotionCor2 will create a log file \n",
    "align_and_split(files)"
   ]
  },
  {
   "cell_type": "markdown",
   "metadata": {},
   "source": [
    "## CUDA-9.0\n",
    "\n",
    "After running MotionCor2 we change the `PATH` back to `CUDA-9.0` which will be used for the network training. "
   ]
  },
  {
   "cell_type": "code",
   "execution_count": 10,
   "metadata": {},
   "outputs": [
    {
     "name": "stdout",
     "output_type": "stream",
     "text": [
      "env: PATH=/usr/local/bin:/usr/local/IMOD/bin:/usr/local/nvidia/bin:/usr/local/cuda/bin:/usr/local/sbin:/usr/local/bin:/usr/sbin:/usr/bin:/sbin:/bin\n",
      "nvcc: NVIDIA (R) Cuda compiler driver\r\n",
      "Copyright (c) 2005-2017 NVIDIA Corporation\r\n",
      "Built on Fri_Sep__1_21:08:03_CDT_2017\r\n",
      "Cuda compilation tools, release 9.0, V9.0.176\r\n"
     ]
    }
   ],
   "source": [
    "# Change the environment variable PATH back\n",
    "%env PATH=/usr/local/bin:/usr/local/IMOD/bin:/usr/local/nvidia/bin:/usr/local/cuda/bin:/usr/local/sbin:/usr/local/bin:/usr/sbin:/usr/bin:/sbin:/bin\n",
    "!nvcc --version"
   ]
  },
  {
   "cell_type": "markdown",
   "metadata": {},
   "source": [
    "## Remove `tmp` Directory"
   ]
  },
  {
   "cell_type": "code",
   "execution_count": 11,
   "metadata": {},
   "outputs": [],
   "source": [
    "os.removedirs('tmp')"
   ]
  }
 ],
 "metadata": {
  "kernelspec": {
   "display_name": "Python 3",
   "language": "python",
   "name": "python3"
  },
  "language_info": {
   "codemirror_mode": {
    "name": "ipython",
    "version": 3
   },
   "file_extension": ".py",
   "mimetype": "text/x-python",
   "name": "python",
   "nbconvert_exporter": "python",
   "pygments_lexer": "ipython3",
   "version": "3.5.2"
  }
 },
 "nbformat": 4,
 "nbformat_minor": 2
}
